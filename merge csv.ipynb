{
 "cells": [
  {
   "cell_type": "code",
   "execution_count": null,
   "id": "b07128f3-cf7b-471e-abed-10722896a3c4",
   "metadata": {},
   "outputs": [
    {
     "ename": "ModuleNotFoundError",
     "evalue": "No module named 'pandas'",
     "output_type": "error",
     "traceback": [
      "\u001b[31m---------------------------------------------------------------------------\u001b[39m",
      "\u001b[31mModuleNotFoundError\u001b[39m                       Traceback (most recent call last)",
      "\u001b[36mCell\u001b[39m\u001b[36m \u001b[39m\u001b[32mIn[1]\u001b[39m\u001b[32m, line 1\u001b[39m\n\u001b[32m----> \u001b[39m\u001b[32m1\u001b[39m \u001b[38;5;28;01mimport\u001b[39;00m\u001b[38;5;250m \u001b[39m\u001b[34;01mpandas\u001b[39;00m\u001b[38;5;250m \u001b[39m\u001b[38;5;28;01mas\u001b[39;00m\u001b[38;5;250m \u001b[39m\u001b[34;01mpd\u001b[39;00m\n\u001b[32m      3\u001b[39m ds0 = pd.read_csv(\u001b[33m'\u001b[39m\u001b[33mdaily_sales_data_0.csv\u001b[39m\u001b[33m'\u001b[39m)\n\u001b[32m      4\u001b[39m ds1 = pd.read_csv(\u001b[33m'\u001b[39m\u001b[33mdaily_sales_data_1.csv\u001b[39m\u001b[33m'\u001b[39m)\n",
      "\u001b[31mModuleNotFoundError\u001b[39m: No module named 'pandas'"
     ]
    }
   ],
   "source": [
    "import pandas as pd\n",
    "\n",
    "ds0 = pd.read_csv('daily_sales_data_0.csv')\n",
    "ds1 = pd.read_csv('daily_sales_data_1.csv')\n",
    "ds2 = pd.read_csv('daily_sales_data_2.csv')\n",
    "merged_ds = pd.merge (df0, df1, df2, on='merge_key')\n",
    "print(merged_ds)"
   ]
  },
  {
   "cell_type": "code",
   "execution_count": null,
   "id": "1b04c701-a90e-4244-b0a7-382683ea247c",
   "metadata": {},
   "outputs": [],
   "source": []
  }
 ],
 "metadata": {
  "kernelspec": {
   "display_name": "Python 3 (ipykernel)",
   "language": "python",
   "name": "python3"
  },
  "language_info": {
   "codemirror_mode": {
    "name": "ipython",
    "version": 3
   },
   "file_extension": ".py",
   "mimetype": "text/x-python",
   "name": "python",
   "nbconvert_exporter": "python",
   "pygments_lexer": "ipython3",
   "version": "3.13.2"
  }
 },
 "nbformat": 4,
 "nbformat_minor": 5
}
